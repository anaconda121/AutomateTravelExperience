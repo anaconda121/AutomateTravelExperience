{
  "nbformat": 4,
  "nbformat_minor": 0,
  "metadata": {
    "colab": {
      "name": "Regression Mini Project.ipynb",
      "provenance": [],
      "authorship_tag": "ABX9TyNWiPTVoQP/8fOICW3FZxoR",
      "include_colab_link": true
    },
    "kernelspec": {
      "name": "python3",
      "display_name": "Python 3"
    },
    "language_info": {
      "name": "python"
    }
  },
  "cells": [
    {
      "cell_type": "markdown",
      "metadata": {
        "id": "view-in-github",
        "colab_type": "text"
      },
      "source": [
        "<a href=\"https://colab.research.google.com/github/anaconda121/AutomateTravelExperience/blob/master/Tensorflow/Regression_Mini_Project.ipynb\" target=\"_parent\"><img src=\"https://colab.research.google.com/assets/colab-badge.svg\" alt=\"Open In Colab\"/></a>"
      ]
    },
    {
      "cell_type": "code",
      "execution_count": null,
      "metadata": {
        "id": "CBnJyHZyZX-q"
      },
      "outputs": [],
      "source": [
        "# required\n",
        "import numpy as np\n",
        "import tensorflow as tf\n",
        "import matplotlib.pyplot as plt\n",
        "\n",
        "# optional\n",
        "import pandas as pd\n",
        "import warnings\n",
        "warnings.filterwarnings(\"ignore\")"
      ]
    },
    {
      "cell_type": "code",
      "source": [
        "tf.random.set_seed(2830)\n",
        "np.random.seed(2830)"
      ],
      "metadata": {
        "id": "pu6xmTr9ZdeK"
      },
      "execution_count": null,
      "outputs": []
    },
    {
      "cell_type": "markdown",
      "source": [
        "## Section 2"
      ],
      "metadata": {
        "id": "XbAlBZWRZqsV"
      }
    },
    {
      "cell_type": "markdown",
      "source": [
        "### Part a"
      ],
      "metadata": {
        "id": "flUz4l77Zta9"
      }
    },
    {
      "cell_type": "code",
      "source": [
        "gt1_X = np.random.randn(5000, 10)"
      ],
      "metadata": {
        "id": "GC_vNwlsZo16"
      },
      "execution_count": null,
      "outputs": []
    },
    {
      "cell_type": "markdown",
      "source": [
        "### Part b"
      ],
      "metadata": {
        "id": "_ASLhPE7Z4FM"
      }
    },
    {
      "cell_type": "code",
      "source": [
        "gt1_formula = np.array([5, 7, -2, -8, 6, 0, 0, 0, 0, 0])"
      ],
      "metadata": {
        "id": "rldrPaZ_Z53d"
      },
      "execution_count": null,
      "outputs": []
    },
    {
      "cell_type": "markdown",
      "source": [
        "### Part c"
      ],
      "metadata": {
        "id": "4_Ae5e15aJ6l"
      }
    },
    {
      "cell_type": "code",
      "source": [
        "gt1_y =  gt1_X @ gt1_formula"
      ],
      "metadata": {
        "id": "WH3l1bxhaLO-"
      },
      "execution_count": null,
      "outputs": []
    },
    {
      "cell_type": "markdown",
      "source": [
        "### Final check"
      ],
      "metadata": {
        "id": "2-YNKZ4IatPw"
      }
    },
    {
      "cell_type": "code",
      "source": [
        "gt1_data = np.concatenate((gt1_y.reshape(len(gt1_y), 1), gt1_X), axis = 1)"
      ],
      "metadata": {
        "id": "AsJrCF5za2WC"
      },
      "execution_count": null,
      "outputs": []
    },
    {
      "cell_type": "code",
      "source": [
        "gt1 = pd.DataFrame(gt1_data, columns = [\"y\", \"X1\", \"X2\", \"X3\", \"X4\", \"X5\", \"X6\", \"X7\", \"X8\", \"X9\", \"X10\"])"
      ],
      "metadata": {
        "id": "N-D2XG9qccgm"
      },
      "execution_count": null,
      "outputs": []
    },
    {
      "cell_type": "code",
      "source": [
        "gt1.head()"
      ],
      "metadata": {
        "colab": {
          "base_uri": "https://localhost:8080/",
          "height": 206
        },
        "id": "K6agAt1QcdvK",
        "outputId": "c768e737-b387-41c5-e431-e410aeb9aaef"
      },
      "execution_count": null,
      "outputs": [
        {
          "output_type": "execute_result",
          "data": {
            "text/html": [
              "\n",
              "  <div id=\"df-e09ac07a-47c1-4f1f-96fe-d5b82f9acb6e\">\n",
              "    <div class=\"colab-df-container\">\n",
              "      <div>\n",
              "<style scoped>\n",
              "    .dataframe tbody tr th:only-of-type {\n",
              "        vertical-align: middle;\n",
              "    }\n",
              "\n",
              "    .dataframe tbody tr th {\n",
              "        vertical-align: top;\n",
              "    }\n",
              "\n",
              "    .dataframe thead th {\n",
              "        text-align: right;\n",
              "    }\n",
              "</style>\n",
              "<table border=\"1\" class=\"dataframe\">\n",
              "  <thead>\n",
              "    <tr style=\"text-align: right;\">\n",
              "      <th></th>\n",
              "      <th>y</th>\n",
              "      <th>X1</th>\n",
              "      <th>X2</th>\n",
              "      <th>X3</th>\n",
              "      <th>X4</th>\n",
              "      <th>X5</th>\n",
              "      <th>X6</th>\n",
              "      <th>X7</th>\n",
              "      <th>X8</th>\n",
              "      <th>X9</th>\n",
              "      <th>X10</th>\n",
              "    </tr>\n",
              "  </thead>\n",
              "  <tbody>\n",
              "    <tr>\n",
              "      <th>0</th>\n",
              "      <td>-29.579884</td>\n",
              "      <td>0.110259</td>\n",
              "      <td>-3.087969</td>\n",
              "      <td>-0.749043</td>\n",
              "      <td>0.741277</td>\n",
              "      <td>-0.680544</td>\n",
              "      <td>1.606849</td>\n",
              "      <td>-0.886237</td>\n",
              "      <td>0.350773</td>\n",
              "      <td>-0.660441</td>\n",
              "      <td>-0.478209</td>\n",
              "    </tr>\n",
              "    <tr>\n",
              "      <th>1</th>\n",
              "      <td>-13.763301</td>\n",
              "      <td>-1.569348</td>\n",
              "      <td>-0.457992</td>\n",
              "      <td>-0.842859</td>\n",
              "      <td>-0.553458</td>\n",
              "      <td>-1.470666</td>\n",
              "      <td>0.018171</td>\n",
              "      <td>-0.660271</td>\n",
              "      <td>0.032087</td>\n",
              "      <td>0.230016</td>\n",
              "      <td>0.476304</td>\n",
              "    </tr>\n",
              "    <tr>\n",
              "      <th>2</th>\n",
              "      <td>-13.960092</td>\n",
              "      <td>0.509020</td>\n",
              "      <td>-0.130932</td>\n",
              "      <td>-0.276566</td>\n",
              "      <td>0.750972</td>\n",
              "      <td>-1.689004</td>\n",
              "      <td>0.895822</td>\n",
              "      <td>-1.195788</td>\n",
              "      <td>-1.034214</td>\n",
              "      <td>-0.682326</td>\n",
              "      <td>-0.010970</td>\n",
              "    </tr>\n",
              "    <tr>\n",
              "      <th>3</th>\n",
              "      <td>15.574768</td>\n",
              "      <td>0.188936</td>\n",
              "      <td>0.191017</td>\n",
              "      <td>-0.021699</td>\n",
              "      <td>-0.974294</td>\n",
              "      <td>0.909203</td>\n",
              "      <td>-0.436864</td>\n",
              "      <td>-0.062763</td>\n",
              "      <td>0.452257</td>\n",
              "      <td>0.365630</td>\n",
              "      <td>2.221494</td>\n",
              "    </tr>\n",
              "    <tr>\n",
              "      <th>4</th>\n",
              "      <td>-14.039647</td>\n",
              "      <td>-0.352854</td>\n",
              "      <td>-1.367789</td>\n",
              "      <td>-0.502583</td>\n",
              "      <td>-0.130065</td>\n",
              "      <td>-0.791091</td>\n",
              "      <td>1.052765</td>\n",
              "      <td>-0.617383</td>\n",
              "      <td>1.138698</td>\n",
              "      <td>0.763146</td>\n",
              "      <td>0.712855</td>\n",
              "    </tr>\n",
              "  </tbody>\n",
              "</table>\n",
              "</div>\n",
              "      <button class=\"colab-df-convert\" onclick=\"convertToInteractive('df-e09ac07a-47c1-4f1f-96fe-d5b82f9acb6e')\"\n",
              "              title=\"Convert this dataframe to an interactive table.\"\n",
              "              style=\"display:none;\">\n",
              "        \n",
              "  <svg xmlns=\"http://www.w3.org/2000/svg\" height=\"24px\"viewBox=\"0 0 24 24\"\n",
              "       width=\"24px\">\n",
              "    <path d=\"M0 0h24v24H0V0z\" fill=\"none\"/>\n",
              "    <path d=\"M18.56 5.44l.94 2.06.94-2.06 2.06-.94-2.06-.94-.94-2.06-.94 2.06-2.06.94zm-11 1L8.5 8.5l.94-2.06 2.06-.94-2.06-.94L8.5 2.5l-.94 2.06-2.06.94zm10 10l.94 2.06.94-2.06 2.06-.94-2.06-.94-.94-2.06-.94 2.06-2.06.94z\"/><path d=\"M17.41 7.96l-1.37-1.37c-.4-.4-.92-.59-1.43-.59-.52 0-1.04.2-1.43.59L10.3 9.45l-7.72 7.72c-.78.78-.78 2.05 0 2.83L4 21.41c.39.39.9.59 1.41.59.51 0 1.02-.2 1.41-.59l7.78-7.78 2.81-2.81c.8-.78.8-2.07 0-2.86zM5.41 20L4 18.59l7.72-7.72 1.47 1.35L5.41 20z\"/>\n",
              "  </svg>\n",
              "      </button>\n",
              "      \n",
              "  <style>\n",
              "    .colab-df-container {\n",
              "      display:flex;\n",
              "      flex-wrap:wrap;\n",
              "      gap: 12px;\n",
              "    }\n",
              "\n",
              "    .colab-df-convert {\n",
              "      background-color: #E8F0FE;\n",
              "      border: none;\n",
              "      border-radius: 50%;\n",
              "      cursor: pointer;\n",
              "      display: none;\n",
              "      fill: #1967D2;\n",
              "      height: 32px;\n",
              "      padding: 0 0 0 0;\n",
              "      width: 32px;\n",
              "    }\n",
              "\n",
              "    .colab-df-convert:hover {\n",
              "      background-color: #E2EBFA;\n",
              "      box-shadow: 0px 1px 2px rgba(60, 64, 67, 0.3), 0px 1px 3px 1px rgba(60, 64, 67, 0.15);\n",
              "      fill: #174EA6;\n",
              "    }\n",
              "\n",
              "    [theme=dark] .colab-df-convert {\n",
              "      background-color: #3B4455;\n",
              "      fill: #D2E3FC;\n",
              "    }\n",
              "\n",
              "    [theme=dark] .colab-df-convert:hover {\n",
              "      background-color: #434B5C;\n",
              "      box-shadow: 0px 1px 3px 1px rgba(0, 0, 0, 0.15);\n",
              "      filter: drop-shadow(0px 1px 2px rgba(0, 0, 0, 0.3));\n",
              "      fill: #FFFFFF;\n",
              "    }\n",
              "  </style>\n",
              "\n",
              "      <script>\n",
              "        const buttonEl =\n",
              "          document.querySelector('#df-e09ac07a-47c1-4f1f-96fe-d5b82f9acb6e button.colab-df-convert');\n",
              "        buttonEl.style.display =\n",
              "          google.colab.kernel.accessAllowed ? 'block' : 'none';\n",
              "\n",
              "        async function convertToInteractive(key) {\n",
              "          const element = document.querySelector('#df-e09ac07a-47c1-4f1f-96fe-d5b82f9acb6e');\n",
              "          const dataTable =\n",
              "            await google.colab.kernel.invokeFunction('convertToInteractive',\n",
              "                                                     [key], {});\n",
              "          if (!dataTable) return;\n",
              "\n",
              "          const docLinkHtml = 'Like what you see? Visit the ' +\n",
              "            '<a target=\"_blank\" href=https://colab.research.google.com/notebooks/data_table.ipynb>data table notebook</a>'\n",
              "            + ' to learn more about interactive tables.';\n",
              "          element.innerHTML = '';\n",
              "          dataTable['output_type'] = 'display_data';\n",
              "          await google.colab.output.renderOutput(dataTable, element);\n",
              "          const docLink = document.createElement('div');\n",
              "          docLink.innerHTML = docLinkHtml;\n",
              "          element.appendChild(docLink);\n",
              "        }\n",
              "      </script>\n",
              "    </div>\n",
              "  </div>\n",
              "  "
            ],
            "text/plain": [
              "           y        X1        X2  ...        X8        X9       X10\n",
              "0 -29.579884  0.110259 -3.087969  ...  0.350773 -0.660441 -0.478209\n",
              "1 -13.763301 -1.569348 -0.457992  ...  0.032087  0.230016  0.476304\n",
              "2 -13.960092  0.509020 -0.130932  ... -1.034214 -0.682326 -0.010970\n",
              "3  15.574768  0.188936  0.191017  ...  0.452257  0.365630  2.221494\n",
              "4 -14.039647 -0.352854 -1.367789  ...  1.138698  0.763146  0.712855\n",
              "\n",
              "[5 rows x 11 columns]"
            ]
          },
          "metadata": {},
          "execution_count": 8
        }
      ]
    },
    {
      "cell_type": "markdown",
      "source": [
        "## Section 3"
      ],
      "metadata": {
        "id": "GNsBCtXddOGg"
      }
    },
    {
      "cell_type": "markdown",
      "source": [
        "### Part a"
      ],
      "metadata": {
        "id": "iHFfwGJKeJSX"
      }
    },
    {
      "cell_type": "code",
      "source": [
        "gt1_model1 = tf.keras.models.Sequential([\n",
        "  tf.keras.layers.Flatten(input_shape=(1,10)),\n",
        "  tf.keras.layers.Dense(16, activation='relu'),\n",
        "  tf.keras.layers.Dense(16, activation='relu'),\n",
        "  tf.keras.layers.Dense(1, activation='linear'),\n",
        "])"
      ],
      "metadata": {
        "id": "18GGQPa1dPPz"
      },
      "execution_count": null,
      "outputs": []
    },
    {
      "cell_type": "markdown",
      "source": [
        "### Part b"
      ],
      "metadata": {
        "id": "yo1jE92heME9"
      }
    },
    {
      "cell_type": "code",
      "source": [
        "gt1_model1.compile(optimizer=tf.keras.optimizers.Adam(learning_rate=1e-2), loss=tf.keras.losses.MSE)"
      ],
      "metadata": {
        "id": "mq6rxo-JeQoN"
      },
      "execution_count": null,
      "outputs": []
    },
    {
      "cell_type": "markdown",
      "source": [
        "### Part c"
      ],
      "metadata": {
        "id": "ScupAmDYexe3"
      }
    },
    {
      "cell_type": "code",
      "source": [
        "gt1_model1.fit(gt1_X.reshape((len(gt1_X), 1, 10)), gt1_y, batch_size = 64, epochs=100, verbose=2)"
      ],
      "metadata": {
        "colab": {
          "base_uri": "https://localhost:8080/"
        },
        "id": "ndphrszBey2L",
        "outputId": "fd26cfec-1012-4ddc-d5db-23f96067d855"
      },
      "execution_count": null,
      "outputs": [
        {
          "output_type": "stream",
          "name": "stdout",
          "text": [
            "Epoch 1/100\n",
            "79/79 - 1s - loss: 48.5639 - 724ms/epoch - 9ms/step\n",
            "Epoch 2/100\n",
            "79/79 - 0s - loss: 1.0388 - 120ms/epoch - 2ms/step\n",
            "Epoch 3/100\n",
            "79/79 - 0s - loss: 0.3953 - 96ms/epoch - 1ms/step\n",
            "Epoch 4/100\n",
            "79/79 - 0s - loss: 0.1875 - 93ms/epoch - 1ms/step\n",
            "Epoch 5/100\n",
            "79/79 - 0s - loss: 0.0978 - 89ms/epoch - 1ms/step\n",
            "Epoch 6/100\n",
            "79/79 - 0s - loss: 0.0528 - 88ms/epoch - 1ms/step\n",
            "Epoch 7/100\n",
            "79/79 - 0s - loss: 0.0296 - 92ms/epoch - 1ms/step\n",
            "Epoch 8/100\n",
            "79/79 - 0s - loss: 0.0173 - 93ms/epoch - 1ms/step\n",
            "Epoch 9/100\n",
            "79/79 - 0s - loss: 0.0112 - 97ms/epoch - 1ms/step\n",
            "Epoch 10/100\n",
            "79/79 - 0s - loss: 0.0078 - 96ms/epoch - 1ms/step\n",
            "Epoch 11/100\n",
            "79/79 - 0s - loss: 0.0053 - 99ms/epoch - 1ms/step\n",
            "Epoch 12/100\n",
            "79/79 - 0s - loss: 0.0041 - 104ms/epoch - 1ms/step\n",
            "Epoch 13/100\n",
            "79/79 - 0s - loss: 0.0032 - 98ms/epoch - 1ms/step\n",
            "Epoch 14/100\n",
            "79/79 - 0s - loss: 0.0028 - 85ms/epoch - 1ms/step\n",
            "Epoch 15/100\n",
            "79/79 - 0s - loss: 0.0025 - 90ms/epoch - 1ms/step\n",
            "Epoch 16/100\n",
            "79/79 - 0s - loss: 0.0023 - 97ms/epoch - 1ms/step\n",
            "Epoch 17/100\n",
            "79/79 - 0s - loss: 0.0019 - 90ms/epoch - 1ms/step\n",
            "Epoch 18/100\n",
            "79/79 - 0s - loss: 0.0015 - 99ms/epoch - 1ms/step\n",
            "Epoch 19/100\n",
            "79/79 - 0s - loss: 0.0013 - 99ms/epoch - 1ms/step\n",
            "Epoch 20/100\n",
            "79/79 - 0s - loss: 0.0014 - 104ms/epoch - 1ms/step\n",
            "Epoch 21/100\n",
            "79/79 - 0s - loss: 9.3351e-04 - 92ms/epoch - 1ms/step\n",
            "Epoch 22/100\n",
            "79/79 - 0s - loss: 7.4852e-04 - 102ms/epoch - 1ms/step\n",
            "Epoch 23/100\n",
            "79/79 - 0s - loss: 6.6520e-04 - 105ms/epoch - 1ms/step\n",
            "Epoch 24/100\n",
            "79/79 - 0s - loss: 6.0874e-04 - 83ms/epoch - 1ms/step\n",
            "Epoch 25/100\n",
            "79/79 - 0s - loss: 4.8433e-04 - 91ms/epoch - 1ms/step\n",
            "Epoch 26/100\n",
            "79/79 - 0s - loss: 7.1778e-04 - 92ms/epoch - 1ms/step\n",
            "Epoch 27/100\n",
            "79/79 - 0s - loss: 4.1791e-04 - 96ms/epoch - 1ms/step\n",
            "Epoch 28/100\n",
            "79/79 - 0s - loss: 3.0522e-04 - 91ms/epoch - 1ms/step\n",
            "Epoch 29/100\n",
            "79/79 - 0s - loss: 3.0303e-04 - 96ms/epoch - 1ms/step\n",
            "Epoch 30/100\n",
            "79/79 - 0s - loss: 2.3465e-04 - 88ms/epoch - 1ms/step\n",
            "Epoch 31/100\n",
            "79/79 - 0s - loss: 2.6439e-04 - 91ms/epoch - 1ms/step\n",
            "Epoch 32/100\n",
            "79/79 - 0s - loss: 8.5531e-04 - 91ms/epoch - 1ms/step\n",
            "Epoch 33/100\n",
            "79/79 - 0s - loss: 3.3286e-04 - 103ms/epoch - 1ms/step\n",
            "Epoch 34/100\n",
            "79/79 - 0s - loss: 7.4248e-04 - 93ms/epoch - 1ms/step\n",
            "Epoch 35/100\n",
            "79/79 - 0s - loss: 3.2754e-04 - 88ms/epoch - 1ms/step\n",
            "Epoch 36/100\n",
            "79/79 - 0s - loss: 0.0059 - 89ms/epoch - 1ms/step\n",
            "Epoch 37/100\n",
            "79/79 - 0s - loss: 0.0028 - 92ms/epoch - 1ms/step\n",
            "Epoch 38/100\n",
            "79/79 - 0s - loss: 0.0037 - 92ms/epoch - 1ms/step\n",
            "Epoch 39/100\n",
            "79/79 - 0s - loss: 0.0022 - 91ms/epoch - 1ms/step\n",
            "Epoch 40/100\n",
            "79/79 - 0s - loss: 0.0016 - 89ms/epoch - 1ms/step\n",
            "Epoch 41/100\n",
            "79/79 - 0s - loss: 0.0126 - 86ms/epoch - 1ms/step\n",
            "Epoch 42/100\n",
            "79/79 - 0s - loss: 0.0488 - 96ms/epoch - 1ms/step\n",
            "Epoch 43/100\n",
            "79/79 - 0s - loss: 0.0089 - 92ms/epoch - 1ms/step\n",
            "Epoch 44/100\n",
            "79/79 - 0s - loss: 9.4508e-04 - 95ms/epoch - 1ms/step\n",
            "Epoch 45/100\n",
            "79/79 - 0s - loss: 0.0014 - 88ms/epoch - 1ms/step\n",
            "Epoch 46/100\n",
            "79/79 - 0s - loss: 0.0087 - 95ms/epoch - 1ms/step\n",
            "Epoch 47/100\n",
            "79/79 - 0s - loss: 0.0175 - 86ms/epoch - 1ms/step\n",
            "Epoch 48/100\n",
            "79/79 - 0s - loss: 0.0080 - 96ms/epoch - 1ms/step\n",
            "Epoch 49/100\n",
            "79/79 - 0s - loss: 0.0058 - 107ms/epoch - 1ms/step\n",
            "Epoch 50/100\n",
            "79/79 - 0s - loss: 0.0018 - 102ms/epoch - 1ms/step\n",
            "Epoch 51/100\n",
            "79/79 - 0s - loss: 6.3131e-04 - 94ms/epoch - 1ms/step\n",
            "Epoch 52/100\n",
            "79/79 - 0s - loss: 0.0012 - 108ms/epoch - 1ms/step\n",
            "Epoch 53/100\n",
            "79/79 - 0s - loss: 0.0039 - 88ms/epoch - 1ms/step\n",
            "Epoch 54/100\n",
            "79/79 - 0s - loss: 5.9607e-04 - 99ms/epoch - 1ms/step\n",
            "Epoch 55/100\n",
            "79/79 - 0s - loss: 5.0298e-04 - 91ms/epoch - 1ms/step\n",
            "Epoch 56/100\n",
            "79/79 - 0s - loss: 0.0017 - 96ms/epoch - 1ms/step\n",
            "Epoch 57/100\n",
            "79/79 - 0s - loss: 0.0099 - 89ms/epoch - 1ms/step\n",
            "Epoch 58/100\n",
            "79/79 - 0s - loss: 0.0358 - 96ms/epoch - 1ms/step\n",
            "Epoch 59/100\n",
            "79/79 - 0s - loss: 0.0761 - 103ms/epoch - 1ms/step\n",
            "Epoch 60/100\n",
            "79/79 - 0s - loss: 0.0064 - 84ms/epoch - 1ms/step\n",
            "Epoch 61/100\n",
            "79/79 - 0s - loss: 6.2271e-04 - 88ms/epoch - 1ms/step\n",
            "Epoch 62/100\n",
            "79/79 - 0s - loss: 4.1865e-04 - 108ms/epoch - 1ms/step\n",
            "Epoch 63/100\n",
            "79/79 - 0s - loss: 3.0259e-04 - 95ms/epoch - 1ms/step\n",
            "Epoch 64/100\n",
            "79/79 - 0s - loss: 5.2638e-04 - 94ms/epoch - 1ms/step\n",
            "Epoch 65/100\n",
            "79/79 - 0s - loss: 4.1332e-04 - 89ms/epoch - 1ms/step\n",
            "Epoch 66/100\n",
            "79/79 - 0s - loss: 0.0015 - 89ms/epoch - 1ms/step\n",
            "Epoch 67/100\n",
            "79/79 - 0s - loss: 0.0023 - 94ms/epoch - 1ms/step\n",
            "Epoch 68/100\n",
            "79/79 - 0s - loss: 0.0074 - 92ms/epoch - 1ms/step\n",
            "Epoch 69/100\n",
            "79/79 - 0s - loss: 0.0050 - 89ms/epoch - 1ms/step\n",
            "Epoch 70/100\n",
            "79/79 - 0s - loss: 0.0036 - 94ms/epoch - 1ms/step\n",
            "Epoch 71/100\n",
            "79/79 - 0s - loss: 0.0079 - 89ms/epoch - 1ms/step\n",
            "Epoch 72/100\n",
            "79/79 - 0s - loss: 0.0087 - 88ms/epoch - 1ms/step\n",
            "Epoch 73/100\n",
            "79/79 - 0s - loss: 0.0414 - 87ms/epoch - 1ms/step\n",
            "Epoch 74/100\n",
            "79/79 - 0s - loss: 0.0117 - 92ms/epoch - 1ms/step\n",
            "Epoch 75/100\n",
            "79/79 - 0s - loss: 0.0061 - 100ms/epoch - 1ms/step\n",
            "Epoch 76/100\n",
            "79/79 - 0s - loss: 0.0038 - 89ms/epoch - 1ms/step\n",
            "Epoch 77/100\n",
            "79/79 - 0s - loss: 0.0392 - 103ms/epoch - 1ms/step\n",
            "Epoch 78/100\n",
            "79/79 - 0s - loss: 0.0607 - 90ms/epoch - 1ms/step\n",
            "Epoch 79/100\n",
            "79/79 - 0s - loss: 0.0032 - 94ms/epoch - 1ms/step\n",
            "Epoch 80/100\n",
            "79/79 - 0s - loss: 6.5152e-04 - 109ms/epoch - 1ms/step\n",
            "Epoch 81/100\n",
            "79/79 - 0s - loss: 3.8720e-04 - 101ms/epoch - 1ms/step\n",
            "Epoch 82/100\n",
            "79/79 - 0s - loss: 1.7927e-04 - 88ms/epoch - 1ms/step\n",
            "Epoch 83/100\n",
            "79/79 - 0s - loss: 9.2684e-05 - 92ms/epoch - 1ms/step\n",
            "Epoch 84/100\n",
            "79/79 - 0s - loss: 1.0662e-04 - 89ms/epoch - 1ms/step\n",
            "Epoch 85/100\n",
            "79/79 - 0s - loss: 2.9767e-04 - 89ms/epoch - 1ms/step\n",
            "Epoch 86/100\n",
            "79/79 - 0s - loss: 6.6259e-05 - 100ms/epoch - 1ms/step\n",
            "Epoch 87/100\n",
            "79/79 - 0s - loss: 3.7395e-04 - 101ms/epoch - 1ms/step\n",
            "Epoch 88/100\n",
            "79/79 - 0s - loss: 9.7179e-04 - 100ms/epoch - 1ms/step\n",
            "Epoch 89/100\n",
            "79/79 - 0s - loss: 0.0086 - 86ms/epoch - 1ms/step\n",
            "Epoch 90/100\n",
            "79/79 - 0s - loss: 0.0428 - 99ms/epoch - 1ms/step\n",
            "Epoch 91/100\n",
            "79/79 - 0s - loss: 0.0767 - 86ms/epoch - 1ms/step\n",
            "Epoch 92/100\n",
            "79/79 - 0s - loss: 0.0095 - 89ms/epoch - 1ms/step\n",
            "Epoch 93/100\n",
            "79/79 - 0s - loss: 0.0016 - 91ms/epoch - 1ms/step\n",
            "Epoch 94/100\n",
            "79/79 - 0s - loss: 1.4920e-04 - 84ms/epoch - 1ms/step\n",
            "Epoch 95/100\n",
            "79/79 - 0s - loss: 1.1844e-04 - 98ms/epoch - 1ms/step\n",
            "Epoch 96/100\n",
            "79/79 - 0s - loss: 6.5214e-05 - 100ms/epoch - 1ms/step\n",
            "Epoch 97/100\n",
            "79/79 - 0s - loss: 1.4876e-04 - 90ms/epoch - 1ms/step\n",
            "Epoch 98/100\n",
            "79/79 - 0s - loss: 1.1778e-04 - 90ms/epoch - 1ms/step\n",
            "Epoch 99/100\n",
            "79/79 - 0s - loss: 1.1855e-04 - 91ms/epoch - 1ms/step\n",
            "Epoch 100/100\n",
            "79/79 - 0s - loss: 6.3421e-05 - 93ms/epoch - 1ms/step\n"
          ]
        },
        {
          "output_type": "execute_result",
          "data": {
            "text/plain": [
              "<keras.callbacks.History at 0x7f3607577110>"
            ]
          },
          "metadata": {},
          "execution_count": 11
        }
      ]
    },
    {
      "cell_type": "code",
      "source": [
        "gt1_X.reshape((len(gt1_X), 1, 10)).shape"
      ],
      "metadata": {
        "colab": {
          "base_uri": "https://localhost:8080/"
        },
        "id": "V1lcjoe1ff8h",
        "outputId": "f7f95282-8c39-4365-ddaf-294b23931d44"
      },
      "execution_count": null,
      "outputs": [
        {
          "output_type": "execute_result",
          "data": {
            "text/plain": [
              "(5000, 1, 10)"
            ]
          },
          "metadata": {},
          "execution_count": 12
        }
      ]
    }
  ]
}